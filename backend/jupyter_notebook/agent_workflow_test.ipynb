{
    "cells": [
     {
      "cell_type": "markdown",
      "metadata": {},
      "source": [
       "# 에이전트 중심 워크플로우 테스트\n",
       "\n",
       "이 노트북은 Text-to-SQL 시스템의 에이전트 중심 워크플로우를 테스트하기 위한 것입니다.\n",
       "기존의 2단계 호출 방식(스키마 조회 -> 쿼리 실행)을 단일 에이전트 호출로 개선하는 것을 검증합니다."
      ]
     },
     {
      "cell_type": "code",
      "execution_count": null,
      "metadata": {},
      "source": [
       "import sys\n",
       "import os\n",
       "from pathlib import Path\n",
       "\n",
       "# 프로젝트 루트 디렉토리를 Python 경로에 추가\n",
       "project_root = Path.cwd().parent\n",
       "sys.path.append(str(project_root))\n",
       "\n",
       "from backend.core.agent import TextToSQLAgent\n",
       "from backend.core.tools.schema_analyzer import SchemaAnalyzerTool\n",
       "from backend.core.tools.sql_executor import SQLExecutionTool\n",
       "from backend.core.tools.sql_generator import SQLGeneratorTool\n",
       "from backend.core.tools.query_analyzer import QueryAnalyzerTool\n",
       "from backend.core.tools.result_formatter import ResultFormatterTool"
      ]
     },
     {
      "cell_type": "markdown",
      "metadata": {},
      "source": [
       "## 1. 에이전트 초기화\n",
       "\n",
       "필요한 모든 도구들을 포함한 에이전트를 초기화합니다."
      ]
     },
     {
      "cell_type": "code",
      "execution_count": null,
      "metadata": {},
      "source": [
       "# 도구들 초기화\n",
       "schema_analyzer = SchemaAnalyzerTool()\n",
       "sql_executor = SQLExecutionTool()\n",
       "sql_generator = SQLGeneratorTool()\n",
       "query_analyzer = QueryAnalyzerTool()\n",
       "result_formatter = ResultFormatterTool()\n",
       "\n",
       "# 에이전트 초기화\n",
       "agent = TextToSQLAgent(\n",
       "    tools=[\n",
       "        schema_analyzer,\n",
       "        sql_executor,\n",
       "        sql_generator,\n",
       "        query_analyzer,\n",
       "        result_formatter\n",
       "    ]\n",
       ")"
      ]
     },
     {
      "cell_type": "markdown",
      "metadata": {},
      "source": [
       "## 2. 테스트 쿼리 실행\n",
       "\n",
       "에이전트가 자동으로 스키마를 분석하고 SQL을 생성하여 실행하는 과정을 테스트합니다."
      ]
     },
     {
      "cell_type": "code",
      "execution_count": null,
      "metadata": {},
      "source": [
       "# 테스트할 자연어 질문들\n",
       "test_queries = [\n",
       "    \"2023년에 가장 많은 매출을 올린 상위 5개 제품은 무엇인가요?\",\n",
       "    \"서울 지역의 고객 중 VIP 등급인 고객의 평균 구매 금액은 얼마인가요?\",\n",
       "    \"지난 달에 가장 많이 팔린 카테고리별 제품 수를 보여주세요.\"\n",
       "]\n",
       "\n",
       "# 각 질문에 대해 에이전트 실행\n",
       "for query in test_queries:\n",
       "    print(f\"\\n질문: {query}\")\n",
       "    print(\"-\" * 50)\n",
       "    \n",
       "    # 에이전트 실행\n",
       "    result = agent.run(query)\n",
       "    \n",
       "    # 결과 출력\n",
       "    print(f\"생성된 SQL:\\n{result['sql']}\\n\")\n",
       "    print(f\"실행 결과:\\n{result['result']}\\n\")\n",
       "    print(f\"설명:\\n{result['explanation']}\\n\")"
      ]
     },
     {
      "cell_type": "markdown",
      "metadata": {},
      "source": [
       "## 3. 에이전트의 내부 동작 분석\n",
       "\n",
       "에이전트가 각 단계에서 어떻게 동작하는지 자세히 살펴봅니다."
      ]
     },
     {
      "cell_type": "code",
      "execution_count": null,
      "metadata": {},
      "source": [
       "def analyze_agent_workflow(query):\n",
       "    print(f\"\\n질문: {query}\")\n",
       "    print(\"-\" * 50)\n",
       "    \n",
       "    # 1. 스키마 분석 단계\n",
       "    print(\"1. 스키마 분석 단계\")\n",
       "    schema_info = schema_analyzer.analyze()\n",
       "    print(f\"분석된 테이블 수: {len(schema_info['tables'])}\")\n",
       "    \n",
       "    # 2. 쿼리 분석 단계\n",
       "    print(\"\\n2. 쿼리 분석 단계\")\n",
       "    query_analysis = query_analyzer.analyze(query, schema_info)\n",
       "    print(f\"필요한 테이블: {query_analysis['required_tables']}\")\n",
       "    print(f\"필요한 컬럼: {query_analysis['required_columns']}\")\n",
       "    \n",
       "    # 3. SQL 생성 단계\n",
       "    print(\"\\n3. SQL 생성 단계\")\n",
       "    sql = sql_generator.generate(query, query_analysis, schema_info)\n",
       "    print(f\"생성된 SQL:\\n{sql}\")\n",
       "    \n",
       "    # 4. SQL 실행 단계\n",
       "    print(\"\\n4. SQL 실행 단계\")\n",
       "    result = sql_executor.execute(sql)\n",
       "    \n",
       "    # 5. 결과 포맷팅 단계\n",
       "    print(\"\\n5. 결과 포맷팅 단계\")\n",
       "    formatted_result = result_formatter.format(result, query_analysis)\n",
       "    print(f\"최종 결과:\\n{formatted_result}\")\n",
       "\n",
       "# 첫 번째 테스트 쿼리로 상세 분석 실행\n",
       "analyze_agent_workflow(test_queries[0])"
      ]
     }
    ],
    "metadata": {
     "kernelspec": {
      "display_name": "Python 3",
      "language": "python",
      "name": "python3"
     },
     "language_info": {
      "codemirror_mode": {
       "name": "ipython",
       "version": 3
      },
      "file_extension": ".py",
      "mimetype": "text/x-python",
      "name": "python",
      "nbconvert_exporter": "python",
      "pygments_lexer": "ipython3",
      "version": "3.8.0"
     }
    },
    "nbformat": 4,
    "nbformat_minor": 4
   } 